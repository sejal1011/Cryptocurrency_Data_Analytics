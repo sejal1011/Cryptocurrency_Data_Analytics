{
 "cells": [
  {
   "cell_type": "code",
   "execution_count": 1,
   "id": "199baea4",
   "metadata": {
    "id": "199baea4"
   },
   "outputs": [],
   "source": [
    "# Import Libraries\n",
    "import requests\n",
    "import numpy as np\n",
    "import pandas as pd\n",
    "from datetime import datetime\n",
    "from dateutil.relativedelta import relativedelta"
   ]
  },
  {
   "cell_type": "code",
   "execution_count": 2,
   "id": "99b451bf",
   "metadata": {
    "id": "99b451bf"
   },
   "outputs": [],
   "source": [
    "# The List of 20 type of cryptocurrency\n",
    "coin_list = ['BTC', 'ETH', 'XRP', 'ADA', 'USDT', 'DOGE', 'XLM', 'DOT', 'UNI', 'LINK', 'USDC', 'BCH', 'LTC', 'GRT', 'ETC', 'FIL', 'AAVE', 'ALGO', 'EOS']"
   ]
  },
  {
   "cell_type": "code",
   "execution_count": 3,
   "id": "22ac607f",
   "metadata": {
    "id": "22ac607f"
   },
   "outputs": [],
   "source": [
    "#defining the dataframe\n",
    "main_df = pd.DataFrame()"
   ]
  },
  {
   "cell_type": "code",
   "execution_count": 4,
   "id": "b64d690e",
   "metadata": {
    "colab": {
     "base_uri": "https://localhost:8080/"
    },
    "id": "b64d690e",
    "outputId": "aeebc4fc-6058-4056-c550-942a5956b05a",
    "scrolled": false
   },
   "outputs": [
    {
     "name": "stderr",
     "output_type": "stream",
     "text": [
      "C:\\Users\\sejal\\AppData\\Local\\Temp\\ipykernel_29552\\298432037.py:49: FutureWarning: The frame.append method is deprecated and will be removed from pandas in a future version. Use pandas.concat instead.\n",
      "  coin_df = df.append(coin_df)\n"
     ]
    },
    {
     "name": "stdout",
     "output_type": "stream",
     "text": [
      "1 mismatched.\n"
     ]
    },
    {
     "name": "stderr",
     "output_type": "stream",
     "text": [
      "C:\\Users\\sejal\\AppData\\Local\\Temp\\ipykernel_29552\\298432037.py:42: FutureWarning: The frame.append method is deprecated and will be removed from pandas in a future version. Use pandas.concat instead.\n",
      "  df = df.loc[:insert_ids].append(temp_df).append(df.loc[insert_ids+1:]).reset_index(drop=True)\n",
      "C:\\Users\\sejal\\AppData\\Local\\Temp\\ipykernel_29552\\298432037.py:49: FutureWarning: The frame.append method is deprecated and will be removed from pandas in a future version. Use pandas.concat instead.\n",
      "  coin_df = df.append(coin_df)\n",
      "C:\\Users\\sejal\\AppData\\Local\\Temp\\ipykernel_29552\\298432037.py:53: FutureWarning: The frame.append method is deprecated and will be removed from pandas in a future version. Use pandas.concat instead.\n",
      "  main_df = main_df.append(coin_df)\n",
      "C:\\Users\\sejal\\AppData\\Local\\Temp\\ipykernel_29552\\298432037.py:49: FutureWarning: The frame.append method is deprecated and will be removed from pandas in a future version. Use pandas.concat instead.\n",
      "  coin_df = df.append(coin_df)\n"
     ]
    },
    {
     "name": "stdout",
     "output_type": "stream",
     "text": [
      "1 mismatched.\n"
     ]
    },
    {
     "name": "stderr",
     "output_type": "stream",
     "text": [
      "C:\\Users\\sejal\\AppData\\Local\\Temp\\ipykernel_29552\\298432037.py:42: FutureWarning: The frame.append method is deprecated and will be removed from pandas in a future version. Use pandas.concat instead.\n",
      "  df = df.loc[:insert_ids].append(temp_df).append(df.loc[insert_ids+1:]).reset_index(drop=True)\n",
      "C:\\Users\\sejal\\AppData\\Local\\Temp\\ipykernel_29552\\298432037.py:49: FutureWarning: The frame.append method is deprecated and will be removed from pandas in a future version. Use pandas.concat instead.\n",
      "  coin_df = df.append(coin_df)\n",
      "C:\\Users\\sejal\\AppData\\Local\\Temp\\ipykernel_29552\\298432037.py:53: FutureWarning: The frame.append method is deprecated and will be removed from pandas in a future version. Use pandas.concat instead.\n",
      "  main_df = main_df.append(coin_df)\n",
      "C:\\Users\\sejal\\AppData\\Local\\Temp\\ipykernel_29552\\298432037.py:49: FutureWarning: The frame.append method is deprecated and will be removed from pandas in a future version. Use pandas.concat instead.\n",
      "  coin_df = df.append(coin_df)\n"
     ]
    },
    {
     "name": "stdout",
     "output_type": "stream",
     "text": [
      "1 mismatched.\n"
     ]
    },
    {
     "name": "stderr",
     "output_type": "stream",
     "text": [
      "C:\\Users\\sejal\\AppData\\Local\\Temp\\ipykernel_29552\\298432037.py:42: FutureWarning: The frame.append method is deprecated and will be removed from pandas in a future version. Use pandas.concat instead.\n",
      "  df = df.loc[:insert_ids].append(temp_df).append(df.loc[insert_ids+1:]).reset_index(drop=True)\n",
      "C:\\Users\\sejal\\AppData\\Local\\Temp\\ipykernel_29552\\298432037.py:49: FutureWarning: The frame.append method is deprecated and will be removed from pandas in a future version. Use pandas.concat instead.\n",
      "  coin_df = df.append(coin_df)\n",
      "C:\\Users\\sejal\\AppData\\Local\\Temp\\ipykernel_29552\\298432037.py:53: FutureWarning: The frame.append method is deprecated and will be removed from pandas in a future version. Use pandas.concat instead.\n",
      "  main_df = main_df.append(coin_df)\n",
      "C:\\Users\\sejal\\AppData\\Local\\Temp\\ipykernel_29552\\298432037.py:49: FutureWarning: The frame.append method is deprecated and will be removed from pandas in a future version. Use pandas.concat instead.\n",
      "  coin_df = df.append(coin_df)\n"
     ]
    },
    {
     "name": "stdout",
     "output_type": "stream",
     "text": [
      "1 mismatched.\n"
     ]
    },
    {
     "name": "stderr",
     "output_type": "stream",
     "text": [
      "C:\\Users\\sejal\\AppData\\Local\\Temp\\ipykernel_29552\\298432037.py:42: FutureWarning: The frame.append method is deprecated and will be removed from pandas in a future version. Use pandas.concat instead.\n",
      "  df = df.loc[:insert_ids].append(temp_df).append(df.loc[insert_ids+1:]).reset_index(drop=True)\n",
      "C:\\Users\\sejal\\AppData\\Local\\Temp\\ipykernel_29552\\298432037.py:49: FutureWarning: The frame.append method is deprecated and will be removed from pandas in a future version. Use pandas.concat instead.\n",
      "  coin_df = df.append(coin_df)\n",
      "C:\\Users\\sejal\\AppData\\Local\\Temp\\ipykernel_29552\\298432037.py:53: FutureWarning: The frame.append method is deprecated and will be removed from pandas in a future version. Use pandas.concat instead.\n",
      "  main_df = main_df.append(coin_df)\n",
      "C:\\Users\\sejal\\AppData\\Local\\Temp\\ipykernel_29552\\298432037.py:49: FutureWarning: The frame.append method is deprecated and will be removed from pandas in a future version. Use pandas.concat instead.\n",
      "  coin_df = df.append(coin_df)\n"
     ]
    },
    {
     "name": "stdout",
     "output_type": "stream",
     "text": [
      "1 mismatched.\n"
     ]
    },
    {
     "name": "stderr",
     "output_type": "stream",
     "text": [
      "C:\\Users\\sejal\\AppData\\Local\\Temp\\ipykernel_29552\\298432037.py:42: FutureWarning: The frame.append method is deprecated and will be removed from pandas in a future version. Use pandas.concat instead.\n",
      "  df = df.loc[:insert_ids].append(temp_df).append(df.loc[insert_ids+1:]).reset_index(drop=True)\n",
      "C:\\Users\\sejal\\AppData\\Local\\Temp\\ipykernel_29552\\298432037.py:49: FutureWarning: The frame.append method is deprecated and will be removed from pandas in a future version. Use pandas.concat instead.\n",
      "  coin_df = df.append(coin_df)\n",
      "C:\\Users\\sejal\\AppData\\Local\\Temp\\ipykernel_29552\\298432037.py:53: FutureWarning: The frame.append method is deprecated and will be removed from pandas in a future version. Use pandas.concat instead.\n",
      "  main_df = main_df.append(coin_df)\n",
      "C:\\Users\\sejal\\AppData\\Local\\Temp\\ipykernel_29552\\298432037.py:49: FutureWarning: The frame.append method is deprecated and will be removed from pandas in a future version. Use pandas.concat instead.\n",
      "  coin_df = df.append(coin_df)\n"
     ]
    },
    {
     "name": "stdout",
     "output_type": "stream",
     "text": [
      "1 mismatched.\n"
     ]
    },
    {
     "name": "stderr",
     "output_type": "stream",
     "text": [
      "C:\\Users\\sejal\\AppData\\Local\\Temp\\ipykernel_29552\\298432037.py:42: FutureWarning: The frame.append method is deprecated and will be removed from pandas in a future version. Use pandas.concat instead.\n",
      "  df = df.loc[:insert_ids].append(temp_df).append(df.loc[insert_ids+1:]).reset_index(drop=True)\n",
      "C:\\Users\\sejal\\AppData\\Local\\Temp\\ipykernel_29552\\298432037.py:49: FutureWarning: The frame.append method is deprecated and will be removed from pandas in a future version. Use pandas.concat instead.\n",
      "  coin_df = df.append(coin_df)\n",
      "C:\\Users\\sejal\\AppData\\Local\\Temp\\ipykernel_29552\\298432037.py:53: FutureWarning: The frame.append method is deprecated and will be removed from pandas in a future version. Use pandas.concat instead.\n",
      "  main_df = main_df.append(coin_df)\n",
      "C:\\Users\\sejal\\AppData\\Local\\Temp\\ipykernel_29552\\298432037.py:49: FutureWarning: The frame.append method is deprecated and will be removed from pandas in a future version. Use pandas.concat instead.\n",
      "  coin_df = df.append(coin_df)\n"
     ]
    },
    {
     "name": "stdout",
     "output_type": "stream",
     "text": [
      "1 mismatched.\n"
     ]
    },
    {
     "name": "stderr",
     "output_type": "stream",
     "text": [
      "C:\\Users\\sejal\\AppData\\Local\\Temp\\ipykernel_29552\\298432037.py:42: FutureWarning: The frame.append method is deprecated and will be removed from pandas in a future version. Use pandas.concat instead.\n",
      "  df = df.loc[:insert_ids].append(temp_df).append(df.loc[insert_ids+1:]).reset_index(drop=True)\n",
      "C:\\Users\\sejal\\AppData\\Local\\Temp\\ipykernel_29552\\298432037.py:49: FutureWarning: The frame.append method is deprecated and will be removed from pandas in a future version. Use pandas.concat instead.\n",
      "  coin_df = df.append(coin_df)\n",
      "C:\\Users\\sejal\\AppData\\Local\\Temp\\ipykernel_29552\\298432037.py:53: FutureWarning: The frame.append method is deprecated and will be removed from pandas in a future version. Use pandas.concat instead.\n",
      "  main_df = main_df.append(coin_df)\n",
      "C:\\Users\\sejal\\AppData\\Local\\Temp\\ipykernel_29552\\298432037.py:49: FutureWarning: The frame.append method is deprecated and will be removed from pandas in a future version. Use pandas.concat instead.\n",
      "  coin_df = df.append(coin_df)\n"
     ]
    },
    {
     "name": "stdout",
     "output_type": "stream",
     "text": [
      "1 mismatched.\n"
     ]
    },
    {
     "name": "stderr",
     "output_type": "stream",
     "text": [
      "C:\\Users\\sejal\\AppData\\Local\\Temp\\ipykernel_29552\\298432037.py:42: FutureWarning: The frame.append method is deprecated and will be removed from pandas in a future version. Use pandas.concat instead.\n",
      "  df = df.loc[:insert_ids].append(temp_df).append(df.loc[insert_ids+1:]).reset_index(drop=True)\n",
      "C:\\Users\\sejal\\AppData\\Local\\Temp\\ipykernel_29552\\298432037.py:49: FutureWarning: The frame.append method is deprecated and will be removed from pandas in a future version. Use pandas.concat instead.\n",
      "  coin_df = df.append(coin_df)\n",
      "C:\\Users\\sejal\\AppData\\Local\\Temp\\ipykernel_29552\\298432037.py:53: FutureWarning: The frame.append method is deprecated and will be removed from pandas in a future version. Use pandas.concat instead.\n",
      "  main_df = main_df.append(coin_df)\n",
      "C:\\Users\\sejal\\AppData\\Local\\Temp\\ipykernel_29552\\298432037.py:49: FutureWarning: The frame.append method is deprecated and will be removed from pandas in a future version. Use pandas.concat instead.\n",
      "  coin_df = df.append(coin_df)\n"
     ]
    },
    {
     "name": "stdout",
     "output_type": "stream",
     "text": [
      "1 mismatched.\n"
     ]
    },
    {
     "name": "stderr",
     "output_type": "stream",
     "text": [
      "C:\\Users\\sejal\\AppData\\Local\\Temp\\ipykernel_29552\\298432037.py:42: FutureWarning: The frame.append method is deprecated and will be removed from pandas in a future version. Use pandas.concat instead.\n",
      "  df = df.loc[:insert_ids].append(temp_df).append(df.loc[insert_ids+1:]).reset_index(drop=True)\n",
      "C:\\Users\\sejal\\AppData\\Local\\Temp\\ipykernel_29552\\298432037.py:49: FutureWarning: The frame.append method is deprecated and will be removed from pandas in a future version. Use pandas.concat instead.\n",
      "  coin_df = df.append(coin_df)\n",
      "C:\\Users\\sejal\\AppData\\Local\\Temp\\ipykernel_29552\\298432037.py:53: FutureWarning: The frame.append method is deprecated and will be removed from pandas in a future version. Use pandas.concat instead.\n",
      "  main_df = main_df.append(coin_df)\n",
      "C:\\Users\\sejal\\AppData\\Local\\Temp\\ipykernel_29552\\298432037.py:49: FutureWarning: The frame.append method is deprecated and will be removed from pandas in a future version. Use pandas.concat instead.\n",
      "  coin_df = df.append(coin_df)\n"
     ]
    },
    {
     "name": "stdout",
     "output_type": "stream",
     "text": [
      "1 mismatched.\n"
     ]
    },
    {
     "name": "stderr",
     "output_type": "stream",
     "text": [
      "C:\\Users\\sejal\\AppData\\Local\\Temp\\ipykernel_29552\\298432037.py:42: FutureWarning: The frame.append method is deprecated and will be removed from pandas in a future version. Use pandas.concat instead.\n",
      "  df = df.loc[:insert_ids].append(temp_df).append(df.loc[insert_ids+1:]).reset_index(drop=True)\n",
      "C:\\Users\\sejal\\AppData\\Local\\Temp\\ipykernel_29552\\298432037.py:49: FutureWarning: The frame.append method is deprecated and will be removed from pandas in a future version. Use pandas.concat instead.\n",
      "  coin_df = df.append(coin_df)\n",
      "C:\\Users\\sejal\\AppData\\Local\\Temp\\ipykernel_29552\\298432037.py:53: FutureWarning: The frame.append method is deprecated and will be removed from pandas in a future version. Use pandas.concat instead.\n",
      "  main_df = main_df.append(coin_df)\n",
      "C:\\Users\\sejal\\AppData\\Local\\Temp\\ipykernel_29552\\298432037.py:49: FutureWarning: The frame.append method is deprecated and will be removed from pandas in a future version. Use pandas.concat instead.\n",
      "  coin_df = df.append(coin_df)\n"
     ]
    },
    {
     "name": "stdout",
     "output_type": "stream",
     "text": [
      "1 mismatched.\n"
     ]
    },
    {
     "name": "stderr",
     "output_type": "stream",
     "text": [
      "C:\\Users\\sejal\\AppData\\Local\\Temp\\ipykernel_29552\\298432037.py:42: FutureWarning: The frame.append method is deprecated and will be removed from pandas in a future version. Use pandas.concat instead.\n",
      "  df = df.loc[:insert_ids].append(temp_df).append(df.loc[insert_ids+1:]).reset_index(drop=True)\n",
      "C:\\Users\\sejal\\AppData\\Local\\Temp\\ipykernel_29552\\298432037.py:49: FutureWarning: The frame.append method is deprecated and will be removed from pandas in a future version. Use pandas.concat instead.\n",
      "  coin_df = df.append(coin_df)\n",
      "C:\\Users\\sejal\\AppData\\Local\\Temp\\ipykernel_29552\\298432037.py:53: FutureWarning: The frame.append method is deprecated and will be removed from pandas in a future version. Use pandas.concat instead.\n",
      "  main_df = main_df.append(coin_df)\n",
      "C:\\Users\\sejal\\AppData\\Local\\Temp\\ipykernel_29552\\298432037.py:49: FutureWarning: The frame.append method is deprecated and will be removed from pandas in a future version. Use pandas.concat instead.\n",
      "  coin_df = df.append(coin_df)\n"
     ]
    },
    {
     "name": "stdout",
     "output_type": "stream",
     "text": [
      "1 mismatched.\n"
     ]
    },
    {
     "name": "stderr",
     "output_type": "stream",
     "text": [
      "C:\\Users\\sejal\\AppData\\Local\\Temp\\ipykernel_29552\\298432037.py:42: FutureWarning: The frame.append method is deprecated and will be removed from pandas in a future version. Use pandas.concat instead.\n",
      "  df = df.loc[:insert_ids].append(temp_df).append(df.loc[insert_ids+1:]).reset_index(drop=True)\n",
      "C:\\Users\\sejal\\AppData\\Local\\Temp\\ipykernel_29552\\298432037.py:49: FutureWarning: The frame.append method is deprecated and will be removed from pandas in a future version. Use pandas.concat instead.\n",
      "  coin_df = df.append(coin_df)\n",
      "C:\\Users\\sejal\\AppData\\Local\\Temp\\ipykernel_29552\\298432037.py:53: FutureWarning: The frame.append method is deprecated and will be removed from pandas in a future version. Use pandas.concat instead.\n",
      "  main_df = main_df.append(coin_df)\n",
      "C:\\Users\\sejal\\AppData\\Local\\Temp\\ipykernel_29552\\298432037.py:49: FutureWarning: The frame.append method is deprecated and will be removed from pandas in a future version. Use pandas.concat instead.\n",
      "  coin_df = df.append(coin_df)\n"
     ]
    },
    {
     "name": "stdout",
     "output_type": "stream",
     "text": [
      "1 mismatched.\n"
     ]
    },
    {
     "name": "stderr",
     "output_type": "stream",
     "text": [
      "C:\\Users\\sejal\\AppData\\Local\\Temp\\ipykernel_29552\\298432037.py:42: FutureWarning: The frame.append method is deprecated and will be removed from pandas in a future version. Use pandas.concat instead.\n",
      "  df = df.loc[:insert_ids].append(temp_df).append(df.loc[insert_ids+1:]).reset_index(drop=True)\n",
      "C:\\Users\\sejal\\AppData\\Local\\Temp\\ipykernel_29552\\298432037.py:49: FutureWarning: The frame.append method is deprecated and will be removed from pandas in a future version. Use pandas.concat instead.\n",
      "  coin_df = df.append(coin_df)\n",
      "C:\\Users\\sejal\\AppData\\Local\\Temp\\ipykernel_29552\\298432037.py:53: FutureWarning: The frame.append method is deprecated and will be removed from pandas in a future version. Use pandas.concat instead.\n",
      "  main_df = main_df.append(coin_df)\n",
      "C:\\Users\\sejal\\AppData\\Local\\Temp\\ipykernel_29552\\298432037.py:49: FutureWarning: The frame.append method is deprecated and will be removed from pandas in a future version. Use pandas.concat instead.\n",
      "  coin_df = df.append(coin_df)\n"
     ]
    },
    {
     "name": "stdout",
     "output_type": "stream",
     "text": [
      "1 mismatched.\n"
     ]
    },
    {
     "name": "stderr",
     "output_type": "stream",
     "text": [
      "C:\\Users\\sejal\\AppData\\Local\\Temp\\ipykernel_29552\\298432037.py:42: FutureWarning: The frame.append method is deprecated and will be removed from pandas in a future version. Use pandas.concat instead.\n",
      "  df = df.loc[:insert_ids].append(temp_df).append(df.loc[insert_ids+1:]).reset_index(drop=True)\n",
      "C:\\Users\\sejal\\AppData\\Local\\Temp\\ipykernel_29552\\298432037.py:49: FutureWarning: The frame.append method is deprecated and will be removed from pandas in a future version. Use pandas.concat instead.\n",
      "  coin_df = df.append(coin_df)\n",
      "C:\\Users\\sejal\\AppData\\Local\\Temp\\ipykernel_29552\\298432037.py:53: FutureWarning: The frame.append method is deprecated and will be removed from pandas in a future version. Use pandas.concat instead.\n",
      "  main_df = main_df.append(coin_df)\n",
      "C:\\Users\\sejal\\AppData\\Local\\Temp\\ipykernel_29552\\298432037.py:49: FutureWarning: The frame.append method is deprecated and will be removed from pandas in a future version. Use pandas.concat instead.\n",
      "  coin_df = df.append(coin_df)\n"
     ]
    },
    {
     "name": "stdout",
     "output_type": "stream",
     "text": [
      "1 mismatched.\n"
     ]
    },
    {
     "name": "stderr",
     "output_type": "stream",
     "text": [
      "C:\\Users\\sejal\\AppData\\Local\\Temp\\ipykernel_29552\\298432037.py:42: FutureWarning: The frame.append method is deprecated and will be removed from pandas in a future version. Use pandas.concat instead.\n",
      "  df = df.loc[:insert_ids].append(temp_df).append(df.loc[insert_ids+1:]).reset_index(drop=True)\n",
      "C:\\Users\\sejal\\AppData\\Local\\Temp\\ipykernel_29552\\298432037.py:49: FutureWarning: The frame.append method is deprecated and will be removed from pandas in a future version. Use pandas.concat instead.\n",
      "  coin_df = df.append(coin_df)\n",
      "C:\\Users\\sejal\\AppData\\Local\\Temp\\ipykernel_29552\\298432037.py:53: FutureWarning: The frame.append method is deprecated and will be removed from pandas in a future version. Use pandas.concat instead.\n",
      "  main_df = main_df.append(coin_df)\n",
      "C:\\Users\\sejal\\AppData\\Local\\Temp\\ipykernel_29552\\298432037.py:49: FutureWarning: The frame.append method is deprecated and will be removed from pandas in a future version. Use pandas.concat instead.\n",
      "  coin_df = df.append(coin_df)\n"
     ]
    },
    {
     "name": "stdout",
     "output_type": "stream",
     "text": [
      "1 mismatched.\n"
     ]
    },
    {
     "name": "stderr",
     "output_type": "stream",
     "text": [
      "C:\\Users\\sejal\\AppData\\Local\\Temp\\ipykernel_29552\\298432037.py:42: FutureWarning: The frame.append method is deprecated and will be removed from pandas in a future version. Use pandas.concat instead.\n",
      "  df = df.loc[:insert_ids].append(temp_df).append(df.loc[insert_ids+1:]).reset_index(drop=True)\n",
      "C:\\Users\\sejal\\AppData\\Local\\Temp\\ipykernel_29552\\298432037.py:49: FutureWarning: The frame.append method is deprecated and will be removed from pandas in a future version. Use pandas.concat instead.\n",
      "  coin_df = df.append(coin_df)\n",
      "C:\\Users\\sejal\\AppData\\Local\\Temp\\ipykernel_29552\\298432037.py:53: FutureWarning: The frame.append method is deprecated and will be removed from pandas in a future version. Use pandas.concat instead.\n",
      "  main_df = main_df.append(coin_df)\n",
      "C:\\Users\\sejal\\AppData\\Local\\Temp\\ipykernel_29552\\298432037.py:49: FutureWarning: The frame.append method is deprecated and will be removed from pandas in a future version. Use pandas.concat instead.\n",
      "  coin_df = df.append(coin_df)\n"
     ]
    },
    {
     "name": "stdout",
     "output_type": "stream",
     "text": [
      "1 mismatched.\n"
     ]
    },
    {
     "name": "stderr",
     "output_type": "stream",
     "text": [
      "C:\\Users\\sejal\\AppData\\Local\\Temp\\ipykernel_29552\\298432037.py:42: FutureWarning: The frame.append method is deprecated and will be removed from pandas in a future version. Use pandas.concat instead.\n",
      "  df = df.loc[:insert_ids].append(temp_df).append(df.loc[insert_ids+1:]).reset_index(drop=True)\n",
      "C:\\Users\\sejal\\AppData\\Local\\Temp\\ipykernel_29552\\298432037.py:49: FutureWarning: The frame.append method is deprecated and will be removed from pandas in a future version. Use pandas.concat instead.\n",
      "  coin_df = df.append(coin_df)\n",
      "C:\\Users\\sejal\\AppData\\Local\\Temp\\ipykernel_29552\\298432037.py:53: FutureWarning: The frame.append method is deprecated and will be removed from pandas in a future version. Use pandas.concat instead.\n",
      "  main_df = main_df.append(coin_df)\n",
      "C:\\Users\\sejal\\AppData\\Local\\Temp\\ipykernel_29552\\298432037.py:49: FutureWarning: The frame.append method is deprecated and will be removed from pandas in a future version. Use pandas.concat instead.\n",
      "  coin_df = df.append(coin_df)\n"
     ]
    },
    {
     "name": "stdout",
     "output_type": "stream",
     "text": [
      "1 mismatched.\n"
     ]
    },
    {
     "name": "stderr",
     "output_type": "stream",
     "text": [
      "C:\\Users\\sejal\\AppData\\Local\\Temp\\ipykernel_29552\\298432037.py:42: FutureWarning: The frame.append method is deprecated and will be removed from pandas in a future version. Use pandas.concat instead.\n",
      "  df = df.loc[:insert_ids].append(temp_df).append(df.loc[insert_ids+1:]).reset_index(drop=True)\n",
      "C:\\Users\\sejal\\AppData\\Local\\Temp\\ipykernel_29552\\298432037.py:49: FutureWarning: The frame.append method is deprecated and will be removed from pandas in a future version. Use pandas.concat instead.\n",
      "  coin_df = df.append(coin_df)\n",
      "C:\\Users\\sejal\\AppData\\Local\\Temp\\ipykernel_29552\\298432037.py:53: FutureWarning: The frame.append method is deprecated and will be removed from pandas in a future version. Use pandas.concat instead.\n",
      "  main_df = main_df.append(coin_df)\n",
      "C:\\Users\\sejal\\AppData\\Local\\Temp\\ipykernel_29552\\298432037.py:49: FutureWarning: The frame.append method is deprecated and will be removed from pandas in a future version. Use pandas.concat instead.\n",
      "  coin_df = df.append(coin_df)\n"
     ]
    },
    {
     "name": "stdout",
     "output_type": "stream",
     "text": [
      "1 mismatched.\n"
     ]
    },
    {
     "name": "stderr",
     "output_type": "stream",
     "text": [
      "C:\\Users\\sejal\\AppData\\Local\\Temp\\ipykernel_29552\\298432037.py:42: FutureWarning: The frame.append method is deprecated and will be removed from pandas in a future version. Use pandas.concat instead.\n",
      "  df = df.loc[:insert_ids].append(temp_df).append(df.loc[insert_ids+1:]).reset_index(drop=True)\n",
      "C:\\Users\\sejal\\AppData\\Local\\Temp\\ipykernel_29552\\298432037.py:49: FutureWarning: The frame.append method is deprecated and will be removed from pandas in a future version. Use pandas.concat instead.\n",
      "  coin_df = df.append(coin_df)\n",
      "C:\\Users\\sejal\\AppData\\Local\\Temp\\ipykernel_29552\\298432037.py:53: FutureWarning: The frame.append method is deprecated and will be removed from pandas in a future version. Use pandas.concat instead.\n",
      "  main_df = main_df.append(coin_df)\n"
     ]
    }
   ],
   "source": [
    "for coin in coin_list:\n",
    "    coin_df = pd.DataFrame()\n",
    "    df = pd.DataFrame(index=[0])\n",
    "    \n",
    "    # Defining the Start Date and End Date\n",
    "    datetime_end = datetime(2021, 7, 2, 0, 0)\n",
    "    datetime_check = datetime(2021, 7, 1, 0, 0)\n",
    "    \n",
    "    while len(df) > 0:\n",
    "        if datetime_end == datetime_check:\n",
    "            break\n",
    "        \n",
    "        datetime_start = datetime_end - relativedelta(hours = 12)\n",
    "        \n",
    "        #Api for the scrapping\n",
    "        url = 'https://production.api.coindesk.com/v2/price/values/'+ coin +'?start_date='+datetime_start.strftime(\"%Y-%m-%dT%H:%M\") + '&end_date=' + datetime_end.strftime(\"%Y-%m-%dT%H:%M\") + '&ohlc=true'\n",
    "        \n",
    "        #we are using the request to fetch the data from the api in the json format and then storing it into the dataframe.\n",
    "        temp_data = requests.get(url).json()\n",
    "        df = pd.DataFrame(temp_data['data']['entries'])\n",
    "        df.columns = ['Timestamp', 'Open', 'High', 'Low', 'Close']\n",
    "        \n",
    "        # To handle the Missing Data\n",
    "        insert_ids_list = [np.nan]\n",
    "        \n",
    "        '''In numerous occasions, I observed that CoinDesk did not collect every minute of data. \n",
    "        According to observation, in a normal circumstance, the timestamp would have a discrepancy\n",
    "        value of 60000 for 1 minute. As a result, I can quickly tell that the missing period is the\n",
    "        time gap if the row difference for the timestamp is larger than 60000. To deal with it, a\n",
    "        hot-deck imputation procedure is used. To put it another way, the nearest minute data will \n",
    "        be substituted for the missing one.\n",
    "        '''\n",
    "        \n",
    "        while len(insert_ids_list) > 0:\n",
    "            timestamp_checking = np.array(df['Timestamp'][1:]) - np.array(df['Timestamp'][:-1])\n",
    "            insert_ids_list = np.where(timestamp_checking!= 60000)[0]\n",
    "            if len(insert_ids_list) > 0:\n",
    "                print(str(len(insert_ids_list)) + ' mismatched.')\n",
    "                insert_ids = insert_ids_list[0]\n",
    "                temp_df = df.iloc[insert_ids.repeat(int(timestamp_checking[insert_ids]/60000)-1)].reset_index(drop=True)\n",
    "                temp_df['Timestamp'] = [temp_df['Timestamp'][0] + i*60000 for i in range(1, len(temp_df)+1)]\n",
    "                df = df.loc[:insert_ids].append(temp_df).append(df.loc[insert_ids+1:]).reset_index(drop=True)\n",
    "                insert_ids_list = insert_ids_list[1:]\n",
    "                \n",
    "        \n",
    "        #adding datetime and symbol to dataframe\n",
    "        df = df.drop(['Timestamp'], axis=1)\n",
    "        df['Datetime'] = [datetime_end - relativedelta(minutes=len(df)-i) for i in range(0, len(df))]\n",
    "        coin_df = df.append(coin_df)\n",
    "        datetime_end = datetime_start\n",
    "        \n",
    "    coin_df['Symbol'] = coin\n",
    "    main_df = main_df.append(coin_df)\n"
   ]
  },
  {
   "cell_type": "code",
   "execution_count": 5,
   "id": "ae0c639f",
   "metadata": {
    "colab": {
     "base_uri": "https://localhost:8080/",
     "height": 423
    },
    "id": "ae0c639f",
    "outputId": "940b7130-fe3b-4dd1-c9aa-88c0668bf63c"
   },
   "outputs": [
    {
     "data": {
      "text/html": [
       "<div>\n",
       "<style scoped>\n",
       "    .dataframe tbody tr th:only-of-type {\n",
       "        vertical-align: middle;\n",
       "    }\n",
       "\n",
       "    .dataframe tbody tr th {\n",
       "        vertical-align: top;\n",
       "    }\n",
       "\n",
       "    .dataframe thead th {\n",
       "        text-align: right;\n",
       "    }\n",
       "</style>\n",
       "<table border=\"1\" class=\"dataframe\">\n",
       "  <thead>\n",
       "    <tr style=\"text-align: right;\">\n",
       "      <th></th>\n",
       "      <th>Datetime</th>\n",
       "      <th>Symbol</th>\n",
       "      <th>Open</th>\n",
       "      <th>High</th>\n",
       "      <th>Low</th>\n",
       "      <th>Close</th>\n",
       "    </tr>\n",
       "  </thead>\n",
       "  <tbody>\n",
       "    <tr>\n",
       "      <th>0</th>\n",
       "      <td>2021-07-01 00:00:00</td>\n",
       "      <td>BTC</td>\n",
       "      <td>35049.045484</td>\n",
       "      <td>35056.817222</td>\n",
       "      <td>34991.326658</td>\n",
       "      <td>34993.994267</td>\n",
       "    </tr>\n",
       "    <tr>\n",
       "      <th>1</th>\n",
       "      <td>2021-07-01 00:01:00</td>\n",
       "      <td>BTC</td>\n",
       "      <td>34995.349202</td>\n",
       "      <td>35030.583041</td>\n",
       "      <td>34989.167695</td>\n",
       "      <td>34991.266464</td>\n",
       "    </tr>\n",
       "    <tr>\n",
       "      <th>2</th>\n",
       "      <td>2021-07-01 00:02:00</td>\n",
       "      <td>BTC</td>\n",
       "      <td>34991.950939</td>\n",
       "      <td>34994.431719</td>\n",
       "      <td>34929.671801</td>\n",
       "      <td>34952.450112</td>\n",
       "    </tr>\n",
       "    <tr>\n",
       "      <th>3</th>\n",
       "      <td>2021-07-01 00:03:00</td>\n",
       "      <td>BTC</td>\n",
       "      <td>34954.642324</td>\n",
       "      <td>34980.657519</td>\n",
       "      <td>34954.642324</td>\n",
       "      <td>34961.649826</td>\n",
       "    </tr>\n",
       "    <tr>\n",
       "      <th>4</th>\n",
       "      <td>2021-07-01 00:04:00</td>\n",
       "      <td>BTC</td>\n",
       "      <td>34960.350436</td>\n",
       "      <td>34996.245435</td>\n",
       "      <td>34960.350436</td>\n",
       "      <td>34976.586395</td>\n",
       "    </tr>\n",
       "    <tr>\n",
       "      <th>...</th>\n",
       "      <td>...</td>\n",
       "      <td>...</td>\n",
       "      <td>...</td>\n",
       "      <td>...</td>\n",
       "      <td>...</td>\n",
       "      <td>...</td>\n",
       "    </tr>\n",
       "    <tr>\n",
       "      <th>27355</th>\n",
       "      <td>2021-07-01 23:55:00</td>\n",
       "      <td>EOS</td>\n",
       "      <td>3.945295</td>\n",
       "      <td>3.945295</td>\n",
       "      <td>3.936671</td>\n",
       "      <td>3.939916</td>\n",
       "    </tr>\n",
       "    <tr>\n",
       "      <th>27356</th>\n",
       "      <td>2021-07-01 23:56:00</td>\n",
       "      <td>EOS</td>\n",
       "      <td>3.939917</td>\n",
       "      <td>3.940801</td>\n",
       "      <td>3.933735</td>\n",
       "      <td>3.933735</td>\n",
       "    </tr>\n",
       "    <tr>\n",
       "      <th>27357</th>\n",
       "      <td>2021-07-01 23:57:00</td>\n",
       "      <td>EOS</td>\n",
       "      <td>3.933920</td>\n",
       "      <td>3.934184</td>\n",
       "      <td>3.928797</td>\n",
       "      <td>3.933092</td>\n",
       "    </tr>\n",
       "    <tr>\n",
       "      <th>27358</th>\n",
       "      <td>2021-07-01 23:58:00</td>\n",
       "      <td>EOS</td>\n",
       "      <td>3.933122</td>\n",
       "      <td>3.939846</td>\n",
       "      <td>3.933122</td>\n",
       "      <td>3.939811</td>\n",
       "    </tr>\n",
       "    <tr>\n",
       "      <th>27359</th>\n",
       "      <td>2021-07-01 23:59:00</td>\n",
       "      <td>EOS</td>\n",
       "      <td>3.939591</td>\n",
       "      <td>3.939752</td>\n",
       "      <td>3.927281</td>\n",
       "      <td>3.927281</td>\n",
       "    </tr>\n",
       "  </tbody>\n",
       "</table>\n",
       "<p>27360 rows × 6 columns</p>\n",
       "</div>"
      ],
      "text/plain": [
       "                 Datetime Symbol          Open          High           Low  \\\n",
       "0     2021-07-01 00:00:00    BTC  35049.045484  35056.817222  34991.326658   \n",
       "1     2021-07-01 00:01:00    BTC  34995.349202  35030.583041  34989.167695   \n",
       "2     2021-07-01 00:02:00    BTC  34991.950939  34994.431719  34929.671801   \n",
       "3     2021-07-01 00:03:00    BTC  34954.642324  34980.657519  34954.642324   \n",
       "4     2021-07-01 00:04:00    BTC  34960.350436  34996.245435  34960.350436   \n",
       "...                   ...    ...           ...           ...           ...   \n",
       "27355 2021-07-01 23:55:00    EOS      3.945295      3.945295      3.936671   \n",
       "27356 2021-07-01 23:56:00    EOS      3.939917      3.940801      3.933735   \n",
       "27357 2021-07-01 23:57:00    EOS      3.933920      3.934184      3.928797   \n",
       "27358 2021-07-01 23:58:00    EOS      3.933122      3.939846      3.933122   \n",
       "27359 2021-07-01 23:59:00    EOS      3.939591      3.939752      3.927281   \n",
       "\n",
       "              Close  \n",
       "0      34993.994267  \n",
       "1      34991.266464  \n",
       "2      34952.450112  \n",
       "3      34961.649826  \n",
       "4      34976.586395  \n",
       "...             ...  \n",
       "27355      3.939916  \n",
       "27356      3.933735  \n",
       "27357      3.933092  \n",
       "27358      3.939811  \n",
       "27359      3.927281  \n",
       "\n",
       "[27360 rows x 6 columns]"
      ]
     },
     "execution_count": 5,
     "metadata": {},
     "output_type": "execute_result"
    }
   ],
   "source": [
    "main_df = main_df[['Datetime', 'Symbol', 'Open', 'High', 'Low', 'Close']].reset_index(drop=True)\n",
    "main_df"
   ]
  },
  {
   "cell_type": "code",
   "execution_count": 6,
   "id": "0a34284c",
   "metadata": {
    "id": "0a34284c"
   },
   "outputs": [],
   "source": [
    "main_df.to_csv('main_df.csv', index=False)"
   ]
  },
  {
   "cell_type": "code",
   "execution_count": null,
   "id": "18c27630",
   "metadata": {
    "id": "18c27630"
   },
   "outputs": [],
   "source": []
  },
  {
   "cell_type": "code",
   "execution_count": null,
   "id": "cd80bf9b",
   "metadata": {
    "id": "cd80bf9b"
   },
   "outputs": [],
   "source": []
  }
 ],
 "metadata": {
  "colab": {
   "collapsed_sections": [],
   "name": "WebScraping - CryptoCurrency.ipynb",
   "provenance": []
  },
  "kernelspec": {
   "display_name": "Python 3 (ipykernel)",
   "language": "python",
   "name": "python3"
  },
  "language_info": {
   "codemirror_mode": {
    "name": "ipython",
    "version": 3
   },
   "file_extension": ".py",
   "mimetype": "text/x-python",
   "name": "python",
   "nbconvert_exporter": "python",
   "pygments_lexer": "ipython3",
   "version": "3.9.12"
  }
 },
 "nbformat": 4,
 "nbformat_minor": 5
}
